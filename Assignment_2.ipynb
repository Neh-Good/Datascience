{
 "cells": [
  {
   "cell_type": "markdown",
   "id": "8e7cf67d",
   "metadata": {},
   "source": [
    "### Assigment_2 (Python Basics)"
   ]
  },
  {
   "cell_type": "markdown",
   "id": "598f9bb6",
   "metadata": {},
   "source": [
    "1.What are the two values of the Boolean data type? How do you write them?"
   ]
  },
  {
   "cell_type": "markdown",
   "id": "b24dea59",
   "metadata": {},
   "source": [
    "Ans 1. The two types of Boolean data type is True & False. These values written as 0 & 1. Truth is written as 1 & False is written as 0."
   ]
  },
  {
   "cell_type": "markdown",
   "id": "b6b79321",
   "metadata": {},
   "source": [
    "2. What are the three different types of Boolean operators?"
   ]
  },
  {
   "cell_type": "markdown",
   "id": "2f0582d3",
   "metadata": {},
   "source": [
    "Ans 2. Three different types of Boolean Operators are \"and\", \"or\", \"not\" ."
   ]
  },
  {
   "cell_type": "markdown",
   "id": "708d5ce7",
   "metadata": {},
   "source": [
    "3. Make a list of each Boolean operator's truth tables (i.e. every possible combination of Boolean values for the operator and what it evaluate )."
   ]
  },
  {
   "cell_type": "markdown",
   "id": "ffc19326",
   "metadata": {},
   "source": [
    "Ans 3. \"and\" operator gives True as an output if all the conditions are true whether \"or\" operator gives True as an output if one of the condition is true."
   ]
  },
  {
   "cell_type": "code",
   "execution_count": 1,
   "id": "31757e59",
   "metadata": {},
   "outputs": [
    {
     "data": {
      "text/plain": [
       "True"
      ]
     },
     "execution_count": 1,
     "metadata": {},
     "output_type": "execute_result"
    }
   ],
   "source": [
    "x = 10\n",
    "y = 20\n",
    "\n",
    "x == 10 and y == 20"
   ]
  },
  {
   "cell_type": "code",
   "execution_count": 2,
   "id": "934a06e9",
   "metadata": {},
   "outputs": [
    {
     "data": {
      "text/plain": [
       "False"
      ]
     },
     "execution_count": 2,
     "metadata": {},
     "output_type": "execute_result"
    }
   ],
   "source": [
    "x > 10 and y == 20"
   ]
  },
  {
   "cell_type": "code",
   "execution_count": 3,
   "id": "94a45db5",
   "metadata": {},
   "outputs": [
    {
     "data": {
      "text/plain": [
       "True"
      ]
     },
     "execution_count": 3,
     "metadata": {},
     "output_type": "execute_result"
    }
   ],
   "source": [
    "x == 10 or y == 20"
   ]
  },
  {
   "cell_type": "code",
   "execution_count": 4,
   "id": "93674bfb",
   "metadata": {},
   "outputs": [
    {
     "data": {
      "text/plain": [
       "True"
      ]
     },
     "execution_count": 4,
     "metadata": {},
     "output_type": "execute_result"
    }
   ],
   "source": [
    "x > 10 or y == 20"
   ]
  },
  {
   "cell_type": "code",
   "execution_count": 5,
   "id": "b48f3327",
   "metadata": {},
   "outputs": [
    {
     "data": {
      "text/plain": [
       "True"
      ]
     },
     "execution_count": 5,
     "metadata": {},
     "output_type": "execute_result"
    }
   ],
   "source": [
    "x != 9 and y != 19 "
   ]
  },
  {
   "cell_type": "markdown",
   "id": "46d0d7fa",
   "metadata": {},
   "source": [
    "4. What are the values of the following expressions?\n",
    "(5 > 4) and (3 == 5),\n",
    "not (5 > 4),\n",
    "(5 > 4) or (3 == 5),\n",
    "not ((5 > 4) or (3 == 5)),\n",
    "(True and True) and (True == False),\n",
    "(not False) or (not True)"
   ]
  },
  {
   "cell_type": "markdown",
   "id": "ce28ad69",
   "metadata": {},
   "source": [
    "Ans 4. (5 > 4) and (3 == 5) This Expression will give value as False because one of the condition is not True.\n",
    "\n",
    "not (5 > 4) it will give value as False. \n",
    "\n",
    "(5 > 4) or (3 == 5) it will give value as True because or operator is used & one of the condition is True. \n",
    "\n",
    "not ((5 > 4) or (3 == 5)) it will give False because both the conditions are False.\n",
    "\n",
    "(True and True) and (True == False) it will give value as False.\n",
    "\n",
    "(not False) or (not True) it will give value as True."
   ]
  },
  {
   "cell_type": "markdown",
   "id": "c565e6c8",
   "metadata": {},
   "source": [
    "5. What are the six comparison operators?"
   ]
  },
  {
   "cell_type": "markdown",
   "id": "4a9ff6ef",
   "metadata": {},
   "source": [
    "Ans 5. Six comparison operators are -:\n",
    "\n",
    "a. less than (<)\n",
    "\n",
    "b. greater than (>)\n",
    "\n",
    "c. less than equals to (<=)\n",
    "\n",
    "d. greater than equals to (>=)\n",
    "\n",
    "e. equal to (==)\n",
    "\n",
    "f. not equal to (!=)"
   ]
  },
  {
   "cell_type": "markdown",
   "id": "a2bbad9d",
   "metadata": {},
   "source": [
    "6. How do you tell the difference between the equal to and assignment operators?Describe a condition and when you would use one."
   ]
  },
  {
   "cell_type": "markdown",
   "id": "4dc59a30",
   "metadata": {},
   "source": [
    "Ans 6. Equal to (==) operator used to check whether both side values of the operator are equal or not but assignment operator (=) used to assign the right side value to the variable in the left side.\n",
    "\n",
    "for eg. -: x = \"Python Language\" , in this x is a variable assigned the value of the right side which is \"Python Language\". \n",
    "\n",
    "10 == 12 , this will check whether both side values are equal or not because it is not equal it will give False as an output."
   ]
  },
  {
   "cell_type": "markdown",
   "id": "80c74e63",
   "metadata": {},
   "source": [
    "7. Identify the three blocks in this code:\n",
    "\n",
    "spam = 0\n",
    "\n",
    "if spam == 10:\n",
    "\n",
    "print('eggs')\n",
    "\n",
    "if spam > 5:\n",
    "\n",
    "print('bacon')\n",
    "\n",
    "else:\n",
    "\n",
    "print('ham')\n",
    "\n",
    "print('spam')\n",
    "\n",
    "print('spam')"
   ]
  },
  {
   "cell_type": "markdown",
   "id": "d9f51e8a",
   "metadata": {},
   "source": [
    "Ans 7. 1st block is - if spam == 10:print('eggs')\n",
    "\n",
    "2nd block is - if spam > 5:print('bacon')\n",
    "\n",
    "3rd block is - else:print('ham') print('spam') print('spam')"
   ]
  },
  {
   "cell_type": "markdown",
   "id": "ba1edf73",
   "metadata": {},
   "source": [
    "8. Write code that prints Hello if 1 is stored in spam, prints Howdy if 2 is stored in spam, and prints Greetings! if anything else is stored in spam."
   ]
  },
  {
   "cell_type": "code",
   "execution_count": 6,
   "id": "72e5e6a9",
   "metadata": {},
   "outputs": [
    {
     "name": "stdout",
     "output_type": "stream",
     "text": [
      "1\n",
      "Hello\n"
     ]
    }
   ],
   "source": [
    "spam = int(input())\n",
    "if spam == 1:\n",
    "    print(\"Hello\")\n",
    "elif spam == 2:\n",
    "    print(\"Howdy\")\n",
    "else:\n",
    "    print('Greetings')"
   ]
  },
  {
   "cell_type": "code",
   "execution_count": 7,
   "id": "bcbaae19",
   "metadata": {},
   "outputs": [
    {
     "name": "stdout",
     "output_type": "stream",
     "text": [
      "2\n",
      "Howdy\n"
     ]
    }
   ],
   "source": [
    "spam = int(input())\n",
    "if spam == 1:\n",
    "    print(\"Hello\")\n",
    "elif spam == 2:\n",
    "    print(\"Howdy\")\n",
    "else:\n",
    "    print('Greetings')"
   ]
  },
  {
   "cell_type": "code",
   "execution_count": 8,
   "id": "1dc40ebd",
   "metadata": {},
   "outputs": [
    {
     "name": "stdout",
     "output_type": "stream",
     "text": [
      "5\n",
      "Greetings\n"
     ]
    }
   ],
   "source": [
    "spam = int(input())\n",
    "if spam == 1:\n",
    "    print(\"Hello\")\n",
    "elif spam == 2:\n",
    "    print(\"Howdy\")\n",
    "else:\n",
    "    print('Greetings')"
   ]
  },
  {
   "cell_type": "code",
   "execution_count": 9,
   "id": "da045c2d",
   "metadata": {},
   "outputs": [
    {
     "name": "stdout",
     "output_type": "stream",
     "text": [
      "3\n",
      "Greetings\n"
     ]
    }
   ],
   "source": [
    "spam = int(input())\n",
    "if spam == 1:\n",
    "    print(\"Hello\")\n",
    "elif spam == 2:\n",
    "    print(\"Howdy\")\n",
    "else:\n",
    "    print('Greetings')"
   ]
  }
 ],
 "metadata": {
  "kernelspec": {
   "display_name": "Python 3",
   "language": "python",
   "name": "python3"
  },
  "language_info": {
   "codemirror_mode": {
    "name": "ipython",
    "version": 3
   },
   "file_extension": ".py",
   "mimetype": "text/x-python",
   "name": "python",
   "nbconvert_exporter": "python",
   "pygments_lexer": "ipython3",
   "version": "3.8.8"
  }
 },
 "nbformat": 4,
 "nbformat_minor": 5
}
