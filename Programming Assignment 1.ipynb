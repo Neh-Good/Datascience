{
 "cells": [
  {
   "cell_type": "markdown",
   "id": "ce47b9fd",
   "metadata": {},
   "source": [
    "### Programming_Assignment1"
   ]
  },
  {
   "cell_type": "markdown",
   "id": "ce861d59",
   "metadata": {},
   "source": [
    "1. Write a Python program to print \"Hello Python\"?"
   ]
  },
  {
   "cell_type": "code",
   "execution_count": 1,
   "id": "e0533471",
   "metadata": {},
   "outputs": [
    {
     "data": {
      "text/plain": [
       "'Hello Python'"
      ]
     },
     "execution_count": 1,
     "metadata": {},
     "output_type": "execute_result"
    }
   ],
   "source": [
    "# Ans 1.\n",
    "\n",
    "x = \"Hello Python\"\n",
    "x"
   ]
  },
  {
   "cell_type": "code",
   "execution_count": 2,
   "id": "01868dd0",
   "metadata": {},
   "outputs": [
    {
     "name": "stdout",
     "output_type": "stream",
     "text": [
      "Hello Python\n"
     ]
    }
   ],
   "source": [
    "print(x)"
   ]
  },
  {
   "cell_type": "markdown",
   "id": "00d9f3b8",
   "metadata": {},
   "source": [
    "2.\tWrite a Python program to do arithmetical operations addition and division.?"
   ]
  },
  {
   "cell_type": "code",
   "execution_count": 3,
   "id": "14f43513",
   "metadata": {},
   "outputs": [],
   "source": [
    "# Ans 2.\n",
    "\n",
    "a = 15\n",
    "b = 25"
   ]
  },
  {
   "cell_type": "code",
   "execution_count": 4,
   "id": "fdd25192",
   "metadata": {},
   "outputs": [
    {
     "data": {
      "text/plain": [
       "40"
      ]
     },
     "execution_count": 4,
     "metadata": {},
     "output_type": "execute_result"
    }
   ],
   "source": [
    "# Addition\n",
    "\n",
    "a + b"
   ]
  },
  {
   "cell_type": "code",
   "execution_count": 5,
   "id": "9782708c",
   "metadata": {},
   "outputs": [
    {
     "data": {
      "text/plain": [
       "375"
      ]
     },
     "execution_count": 5,
     "metadata": {},
     "output_type": "execute_result"
    }
   ],
   "source": [
    "# Multiplication\n",
    "\n",
    "a * b"
   ]
  },
  {
   "cell_type": "markdown",
   "id": "9aca8c25",
   "metadata": {},
   "source": [
    "3.\tWrite a Python program to find the area of a triangle?"
   ]
  },
  {
   "cell_type": "code",
   "execution_count": 6,
   "id": "9dab3fad",
   "metadata": {},
   "outputs": [],
   "source": [
    "# Area of Triangle = (s*(s-a)*(s-b)*(s-c))**0.5"
   ]
  },
  {
   "cell_type": "code",
   "execution_count": 7,
   "id": "e5cfdd0c",
   "metadata": {},
   "outputs": [
    {
     "name": "stdout",
     "output_type": "stream",
     "text": [
      "Enter the first side of triangle : 4\n",
      "Enter the second side of the traingle : 5\n",
      "Enter the third side of the triangle : 6\n",
      "The Area of the Traingle is 9.92\n"
     ]
    }
   ],
   "source": [
    "# Ans 3.\n",
    "\n",
    "# Three sides of triangles are \n",
    "\n",
    "a = float(input(\"Enter the first side of triangle : \"))\n",
    "b = float(input(\"Enter the second side of the traingle : \"))\n",
    "c = float(input(\"Enter the third side of the triangle : \"))\n",
    "\n",
    "# Calculation of Semi perimeter\n",
    "\n",
    "s = (a + b + c)/2\n",
    "\n",
    "# Area of Triangle\n",
    "\n",
    "area = (s*(s-a)*(s-b)*(s-c)) ** 0.5\n",
    "print(\"The Area of the Traingle is %0.2f\" %area)"
   ]
  },
  {
   "cell_type": "markdown",
   "id": "135620b0",
   "metadata": {},
   "source": [
    "4.\tWrite a Python program to swap two variables?"
   ]
  },
  {
   "cell_type": "code",
   "execution_count": 8,
   "id": "78436dbc",
   "metadata": {},
   "outputs": [
    {
     "name": "stdout",
     "output_type": "stream",
     "text": [
      "Enter a number for x: 45\n",
      "Enter a number for y: 78\n",
      "78 45\n"
     ]
    }
   ],
   "source": [
    "# Ans 4.\n",
    "\n",
    "x = int(input(\"Enter a number for x: \"))\n",
    "y = int(input(\"Enter a number for y: \"))\n",
    "\n",
    "x,y = y,x\n",
    "\n",
    "print(x,y)"
   ]
  },
  {
   "cell_type": "markdown",
   "id": "2ab1530a",
   "metadata": {},
   "source": [
    "5.\tWrite a Python program to generate a random number?"
   ]
  },
  {
   "cell_type": "code",
   "execution_count": 9,
   "id": "76a210a1",
   "metadata": {},
   "outputs": [
    {
     "data": {
      "text/plain": [
       "6476"
      ]
     },
     "execution_count": 9,
     "metadata": {},
     "output_type": "execute_result"
    }
   ],
   "source": [
    "# Ans 5. Generating a random four digit numbers\n",
    "\n",
    "import random\n",
    "random.randint(1000,9999)"
   ]
  }
 ],
 "metadata": {
  "kernelspec": {
   "display_name": "Python 3",
   "language": "python",
   "name": "python3"
  },
  "language_info": {
   "codemirror_mode": {
    "name": "ipython",
    "version": 3
   },
   "file_extension": ".py",
   "mimetype": "text/x-python",
   "name": "python",
   "nbconvert_exporter": "python",
   "pygments_lexer": "ipython3",
   "version": "3.8.8"
  }
 },
 "nbformat": 4,
 "nbformat_minor": 5
}
