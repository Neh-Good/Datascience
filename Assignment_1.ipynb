{
 "cells": [
  {
   "cell_type": "markdown",
   "id": "cc830e0f",
   "metadata": {},
   "source": [
    "## Assignment_1"
   ]
  },
  {
   "cell_type": "markdown",
   "id": "1b0e6b85",
   "metadata": {},
   "source": [
    "##### 1. In the below elements which of them are values or an expression? eg:- values can be integer or string and expressions will be mathematical operators.\n",
    "\n",
    "##### * \n",
    "##### 'hello'\n",
    "##### -87.8\n",
    "##### - \n",
    "##### / \n",
    "##### +\n",
    "##### 6"
   ]
  },
  {
   "cell_type": "markdown",
   "id": "0003b61b",
   "metadata": {},
   "source": [
    "##### Ans 1. * is an expression used for multiplication.\n",
    "##### 'hello' is a value.\n",
    "##### -87.8 is a value (integer).\n",
    "##### - is an expression used for substraction.\n",
    "##### / is an expression used for division.\n",
    "##### + is an expression used for addition.\n",
    "##### 6 is a value (integer)."
   ]
  },
  {
   "cell_type": "markdown",
   "id": "7d8c7f1c",
   "metadata": {},
   "source": [
    "2. What is the difference between string and variable."
   ]
  },
  {
   "cell_type": "markdown",
   "id": "1aef09fb",
   "metadata": {},
   "source": [
    "Ans 2. Variables are symbols where we store the strings. Strings are combination of the words usually lied in \"\" symbol. For Eg. x = \"My Name is Neha Agrawal.\" Here x is a variable & \"My Name is Neha Agrawal is a String."
   ]
  },
  {
   "cell_type": "markdown",
   "id": "0d006892",
   "metadata": {},
   "source": [
    "Q3. Describe three different data types."
   ]
  },
  {
   "cell_type": "markdown",
   "id": "d4ad21aa",
   "metadata": {},
   "source": [
    "Ans 3. Three Different Data Types are - 1. Dictionary 2. Tuple 3. Boolean\n",
    "1. Dictionary - The objects stored in the {} parenthese, are called dictionary, the objects are described by keys\n",
    "in the dictionary data type.\n",
    "\n",
    "2. Tuple - The objects which are stored in () are called Tuples. The main feature of tuples is, these are immutable\n",
    "and cannot be modified.\n",
    "\n",
    "3. Boolean - Boolean data types represented by two values, True or False."
   ]
  },
  {
   "cell_type": "markdown",
   "id": "80a04736",
   "metadata": {},
   "source": [
    "4. What is an expression made up of? What do all expressions do?"
   ]
  },
  {
   "cell_type": "markdown",
   "id": "ae9d135a",
   "metadata": {},
   "source": [
    "Ans 4. Expressions are mathematical Operators. \n",
    "#### + is uses for addition\n",
    "#### - is used for subtraction\n",
    "#### * is used for multiplication\n",
    "#### / is used for division\n",
    "#### // is used for floor division(x//y - x will be divided by y, will give an output of rounded to the next smallest \n",
    "                              whole no)\n",
    "#### % is used for getting the remainder\n",
    "#### -**- is used for exponentiation(it will give an ouput of x raised to the power of y)"
   ]
  },
  {
   "cell_type": "markdown",
   "id": "e7ecf273",
   "metadata": {},
   "source": [
    "5. This assignment statements, like spam = 10. What is the difference between an expression and a statement?"
   ]
  },
  {
   "cell_type": "markdown",
   "id": "b0c56fe9",
   "metadata": {},
   "source": [
    "Ans 5. Expression is a fuction or combination of functions which will give a new value as an ouput or a result whereas \n",
    "Sataement is an instruction to do something for eg. print(\"Neha Agrawal\")"
   ]
  },
  {
   "cell_type": "markdown",
   "id": "131c6db2",
   "metadata": {},
   "source": [
    "6. After running the following code, what does the variable bacon contain?\n",
    "bacon = 22\n",
    "bacon + 1"
   ]
  },
  {
   "cell_type": "markdown",
   "id": "e15120ed",
   "metadata": {},
   "source": [
    "Ans 6. Variable Bacon will contain value 22"
   ]
  },
  {
   "cell_type": "markdown",
   "id": "962f94f2",
   "metadata": {},
   "source": [
    "7. What should the values of the following two terms be?\n",
    "'spam' + 'spamspam'\n",
    "'spam' * 3"
   ]
  },
  {
   "cell_type": "markdown",
   "id": "5b65ecaf",
   "metadata": {},
   "source": [
    "Ans 7. 'spam' + 'spamspam' will givean output 'spamspamspam' & \n",
    "'spam' * 3 will give an output 'spamspamspam'"
   ]
  },
  {
   "cell_type": "markdown",
   "id": "6688c398",
   "metadata": {},
   "source": [
    "8. Why is eggs a valid variable name while 100 is invalid?"
   ]
  },
  {
   "cell_type": "markdown",
   "id": "a918751b",
   "metadata": {},
   "source": [
    "Ans 8. Rule for Variable name in python is that it should start with any alphabet or under score thats why eggs is a valid\n",
    "variable & 100 is invalid."
   ]
  }
 ],
 "metadata": {
  "kernelspec": {
   "display_name": "Python 3",
   "language": "python",
   "name": "python3"
  },
  "language_info": {
   "codemirror_mode": {
    "name": "ipython",
    "version": 3
   },
   "file_extension": ".py",
   "mimetype": "text/x-python",
   "name": "python",
   "nbconvert_exporter": "python",
   "pygments_lexer": "ipython3",
   "version": "3.8.8"
  }
 },
 "nbformat": 4,
 "nbformat_minor": 5
}
